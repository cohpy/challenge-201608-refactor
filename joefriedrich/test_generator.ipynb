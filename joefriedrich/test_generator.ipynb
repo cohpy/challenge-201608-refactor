{
 "cells": [
  {
   "cell_type": "code",
   "execution_count": 1,
   "metadata": {
    "collapsed": true
   },
   "outputs": [],
   "source": [
    "from tkinter import Tk, Canvas, PhotoImage, mainloop\n",
    "from math import sin\n",
    "from time import sleep"
   ]
  },
  {
   "cell_type": "code",
   "execution_count": 2,
   "metadata": {
    "collapsed": false
   },
   "outputs": [],
   "source": [
    "def get_int_input():\n",
    "    while True:\n",
    "        try:\n",
    "            return int(input('Please enter a whole number:  '))\n",
    "        except ValueError:\n",
    "            print('Invalid input.  Please try again.')"
   ]
  },
  {
   "cell_type": "code",
   "execution_count": 3,
   "metadata": {
    "collapsed": true
   },
   "outputs": [],
   "source": [
    "def get_float_input():\n",
    "    while True:\n",
    "        try:\n",
    "            return float(input('Please enter a number:  '))\n",
    "        except ValueError:\n",
    "            print('Invalid input.  Please try again.')"
   ]
  },
  {
   "cell_type": "code",
   "execution_count": 4,
   "metadata": {
    "collapsed": false
   },
   "outputs": [],
   "source": [
    "def generate_width(column, row, user):\n",
    "    while column > 0:\n",
    "        for pixel in generate_height(column, row, user):\n",
    "            yield column, pixel\n",
    "        column -= 1"
   ]
  },
  {
   "cell_type": "code",
   "execution_count": 5,
   "metadata": {
    "collapsed": true
   },
   "outputs": [],
   "source": [
    "def generate_height(column, row, user):\n",
    "    while row > 0:\n",
    "        x = user[0] + (user[2] * (column/100.0))\n",
    "        y = user[1] + (user[2] * (row/100.0))\n",
    "        z = x*x + y*y\n",
    "        if int(z) % 2 == 0:\n",
    "            yield row\n",
    "        row -= 1"
   ]
  },
  {
   "cell_type": "code",
   "execution_count": 6,
   "metadata": {
    "collapsed": false
   },
   "outputs": [
    {
     "name": "stdout",
     "output_type": "stream",
     "text": [
      "Please enter a whole number:  a\n",
      "Invalid input.  Please try again.\n",
      "Please enter a whole number:  b\n",
      "Invalid input.  Please try again.\n",
      "Please enter a whole number:  3.23\n",
      "Invalid input.  Please try again.\n",
      "Please enter a whole number:  4\n",
      "Please enter a whole number:  4\n",
      "Please enter a number:  5.werw\n",
      "Invalid input.  Please try again.\n",
      "Please enter a number:  werwsdf\n",
      "Invalid input.  Please try again.\n",
      "Please enter a number:  5.3\n"
     ]
    }
   ],
   "source": [
    "WIDTH = 640\n",
    "HEIGHT = 480\n",
    "\n",
    "user0 = get_int_input()\n",
    "user1 = get_int_input()\n",
    "user2 = get_float_input()\n",
    "\n",
    "user = [user0, user1, user2]"
   ]
  },
  {
   "cell_type": "code",
   "execution_count": 7,
   "metadata": {
    "collapsed": false
   },
   "outputs": [],
   "source": [
    "window = Tk()\n",
    "canvas = Canvas(window, width=WIDTH, height=HEIGHT, bg=\"#000000\")\n",
    "canvas.pack()\n",
    "img = PhotoImage(width=WIDTH, height=HEIGHT)\n",
    "canvas.create_image((WIDTH/2, HEIGHT/2), image=img, state=\"normal\")\n",
    "\n",
    "for column, row in generate_width(WIDTH, HEIGHT, user):\n",
    "    img.put(\"#ffffff\", (column,row))\n",
    "    \n",
    "mainloop()"
   ]
  },
  {
   "cell_type": "code",
   "execution_count": null,
   "metadata": {
    "collapsed": true
   },
   "outputs": [],
   "source": []
  },
  {
   "cell_type": "code",
   "execution_count": null,
   "metadata": {
    "collapsed": true
   },
   "outputs": [],
   "source": []
  }
 ],
 "metadata": {
  "anaconda-cloud": {},
  "kernelspec": {
   "display_name": "Python [default]",
   "language": "python",
   "name": "python3"
  },
  "language_info": {
   "codemirror_mode": {
    "name": "ipython",
    "version": 3
   },
   "file_extension": ".py",
   "mimetype": "text/x-python",
   "name": "python",
   "nbconvert_exporter": "python",
   "pygments_lexer": "ipython3",
   "version": "3.5.2"
  }
 },
 "nbformat": 4,
 "nbformat_minor": 1
}
